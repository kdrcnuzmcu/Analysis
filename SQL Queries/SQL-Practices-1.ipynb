{
 "cells": [
  {
   "cell_type": "code",
   "execution_count": 1,
   "id": "5371799c",
   "metadata": {},
   "outputs": [],
   "source": [
    "import pyodbc\n",
    "import pandas as pd"
   ]
  },
  {
   "cell_type": "code",
   "execution_count": 2,
   "id": "90a1f092",
   "metadata": {},
   "outputs": [],
   "source": [
    "pd.reset_option(\"display.width\", None)\n",
    "pd.set_option(\"display.expand_frame_repr\", None)"
   ]
  },
  {
   "cell_type": "code",
   "execution_count": 6,
   "id": "265a95e2",
   "metadata": {},
   "outputs": [],
   "source": [
    "driver = '{SQL Server}'\n",
    "server = 'DESKTOP-41IVAA9'\n",
    "database = 'CUSTOMERS_TEST'\n",
    "username = 'sa'\n",
    "password = '1'\n",
    "connection_string = f\"DRIVER={driver};SERVER={server};DATABASE={database};UID={username};PWD={password}\""
   ]
  },
  {
   "cell_type": "code",
   "execution_count": 13,
   "id": "fdfdbc7b",
   "metadata": {},
   "outputs": [],
   "source": [
    "connection = pyodbc.connect(connection_string)\n",
    "cursor = connection.cursor()"
   ]
  },
  {
   "cell_type": "code",
   "execution_count": 8,
   "id": "70ab0df6",
   "metadata": {},
   "outputs": [],
   "source": [
    "def sorgu(query, select=True):\n",
    "    cursor = connection.cursor()\n",
    "    cursor.execute(query)\n",
    "    if select:\n",
    "        rows = cursor.fetchall()\n",
    "        rows = [list(row) for row in rows]\n",
    "        columns = [column[0] for column in cursor.description]\n",
    "        return pd.DataFrame(rows, columns=columns)"
   ]
  },
  {
   "cell_type": "code",
   "execution_count": null,
   "id": "9abd236e",
   "metadata": {},
   "outputs": [],
   "source": [
    "df = sorgu(\"SELECT * FROM CUSTOMERS\")\n",
    "df"
   ]
  },
  {
   "cell_type": "markdown",
   "id": "5572b236",
   "metadata": {},
   "source": [
    "#### SORU 6"
   ]
  },
  {
   "cell_type": "code",
   "execution_count": null,
   "id": "e98454eb",
   "metadata": {},
   "outputs": [],
   "source": [
    "# -- SORU 6\n",
    "df = sorgu(\"SELECT * FROM CUSTOMERS WHERE NAMESURNAME LIKE 'A%'\")\n",
    "df\n"
   ]
  },
  {
   "cell_type": "markdown",
   "id": "d6df20fb",
   "metadata": {},
   "source": [
    "#### SORU 7"
   ]
  },
  {
   "cell_type": "code",
   "execution_count": null,
   "id": "4c824fc2",
   "metadata": {},
   "outputs": [],
   "source": [
    "# -- SORU 7\n",
    "df = sorgu(\"\"\"\n",
    "SELECT * \n",
    "FROM CUSTOMERS \n",
    "WHERE NAMESURNAME LIKE 'A%'\n",
    "AND GENDER = 'E'\"\"\")\n",
    "df\n"
   ]
  },
  {
   "cell_type": "markdown",
   "id": "43764ee3",
   "metadata": {},
   "source": [
    "#### SORU 8"
   ]
  },
  {
   "cell_type": "code",
   "execution_count": null,
   "id": "e3d5d726",
   "metadata": {},
   "outputs": [],
   "source": [
    "# -- SORU 8\n",
    "df = sorgu(\"\"\"\n",
    "SELECT *\n",
    "FROM CUSTOMERS\n",
    "WHERE BIRTHDATE BETWEEN '1990-01-01' AND '1995-12-31'\n",
    "\"\"\")\n",
    "df\n"
   ]
  },
  {
   "cell_type": "code",
   "execution_count": null,
   "id": "29a0958d",
   "metadata": {},
   "outputs": [],
   "source": [
    "# -- SORU 8\n",
    "df = sorgu(\"\"\"\n",
    "SELECT *\n",
    "FROM CUSTOMERS\n",
    "WHERE YEAR(BIRTHDATE) BETWEEN 1990 AND 1995\n",
    "\"\"\")\n",
    "df\n"
   ]
  },
  {
   "cell_type": "markdown",
   "id": "c58a5bd3",
   "metadata": {},
   "source": [
    "#### SORU 9"
   ]
  },
  {
   "cell_type": "code",
   "execution_count": null,
   "id": "938529fe",
   "metadata": {},
   "outputs": [],
   "source": [
    "# -- SORU 9\n",
    "df = sorgu(\"\"\"\n",
    "SELECT *\n",
    "FROM CUSTOMERS AS C\n",
    "JOIN CITIES AS CT ON CT.ID=C.CITYID\n",
    "WHERE CT.CITY='İSTANBUL'\n",
    "\"\"\")\n",
    "df\n"
   ]
  },
  {
   "cell_type": "markdown",
   "id": "c0805d33",
   "metadata": {},
   "source": [
    "#### SORU 10"
   ]
  },
  {
   "cell_type": "code",
   "execution_count": null,
   "id": "fd368737",
   "metadata": {},
   "outputs": [],
   "source": [
    "# -- SORU 10\n",
    "df = sorgu(\"\"\"\n",
    "SELECT *\n",
    "FROM CUSTOMERS\n",
    "WHERE CITYID IN (\n",
    "    SELECT ID\n",
    "    FROM CITIES\n",
    "    WHERE CITY='İSTANBUL')\n",
    "\"\"\")\n",
    "df\n"
   ]
  },
  {
   "cell_type": "markdown",
   "id": "3972237c",
   "metadata": {},
   "source": [
    "#### SORU 11"
   ]
  },
  {
   "cell_type": "code",
   "execution_count": null,
   "id": "00f1c5c6",
   "metadata": {},
   "outputs": [],
   "source": [
    "# -- SORU 11\n",
    "df = sorgu(\"\"\"\n",
    "SELECT \n",
    "    CT.CITY AS SEHIR,\n",
    "    COUNT(*) AS [KISI SAYISI]\n",
    "FROM CUSTOMERS AS C\n",
    "RIGHT JOIN CITIES AS CT ON CT.ID=C.CITYID\n",
    "GROUP BY CT.CITY\n",
    "ORDER BY [KISI SAYISI] DESC\n",
    "\"\"\")\n",
    "df\n"
   ]
  },
  {
   "cell_type": "code",
   "execution_count": null,
   "id": "0a9c014a",
   "metadata": {},
   "outputs": [],
   "source": [
    "# -- SORU 11\n",
    "df = sorgu(\"\"\"\n",
    "SELECT \n",
    "    *,\n",
    "    (SELECT COUNT(*)\n",
    "    FROM CUSTOMERS\n",
    "    WHERE CUSTOMERS.CITYID=CITIES.ID) AS [SAYI]\n",
    "FROM CITIES\n",
    "ORDER BY SAYI DESC\n",
    "\"\"\")\n",
    "df\n"
   ]
  },
  {
   "cell_type": "markdown",
   "id": "9b4b0791",
   "metadata": {},
   "source": [
    "#### SORU 12"
   ]
  },
  {
   "cell_type": "code",
   "execution_count": null,
   "id": "f2d435ea",
   "metadata": {},
   "outputs": [],
   "source": [
    "df = sorgu(\"\"\"\n",
    "SELECT\n",
    "    CT.CITY,\n",
    "    COUNT(*) AS [KULLANICI SAYISI]\n",
    "FROM CUSTOMERS\n",
    "JOIN CITIES AS CT ON CT.ID=CUSTOMERS.CITYID\n",
    "GROUP BY CT.CITY\n",
    "HAVING COUNT(*)>10\n",
    "ORDER BY [KULLANICI SAYISI] DESC\n",
    "\"\"\")\n",
    "df\n"
   ]
  },
  {
   "cell_type": "code",
   "execution_count": null,
   "id": "3958bc6f",
   "metadata": {},
   "outputs": [],
   "source": [
    "df = sorgu(\"\"\"\n",
    "SELECT\n",
    "    (SELECT CITY FROM CITIES WHERE ID=CUSTOMERS.CITYID),\n",
    "    COUNT(*) AS [KULLANICI SAYISI]\n",
    "FROM CUSTOMERS\n",
    "GROUP BY CUSTOMERS.CITYID\n",
    "HAVING COUNT(*)>10\n",
    "ORDER BY [KULLANICI SAYISI] DESC\n",
    "\"\"\")\n",
    "df\n"
   ]
  },
  {
   "cell_type": "markdown",
   "id": "0fe51222",
   "metadata": {},
   "source": [
    "#### SORU 13"
   ]
  },
  {
   "cell_type": "code",
   "execution_count": null,
   "id": "38831888",
   "metadata": {},
   "outputs": [],
   "source": [
    "df = sorgu(\"\"\"\n",
    "SELECT\n",
    "    CT.CITY,\n",
    "    GENDER, \n",
    "    COUNT(*) AS [KİŞİ SAYISI]\n",
    "FROM CUSTOMERS\n",
    "JOIN CITIES AS CT ON CT.ID=CITYID\n",
    "GROUP BY \n",
    "    CT.CITY,\n",
    "    GENDER\n",
    "ORDER BY \n",
    "    1 ASC,\n",
    "    3 DESC\n",
    "\"\"\")\n",
    "df\n"
   ]
  },
  {
   "cell_type": "markdown",
   "id": "6a1811cc",
   "metadata": {},
   "source": [
    "#### SORU 14"
   ]
  },
  {
   "cell_type": "code",
   "execution_count": null,
   "id": "ee23102f",
   "metadata": {},
   "outputs": [],
   "source": [
    "df = sorgu(\"\"\"\n",
    "SELECT\n",
    "    CITY,\n",
    "    (SELECT COUNT(*) FROM CUSTOMERS WHERE CITYID=C.CITYID) AS [MÜŞTERİ SAYISI],\n",
    "    (SELECT COUNT(*) FROM CUSTOMERS WHERE GENDER='K' AND CITYID=C.CITYID) AS [KADIN SAYISI],\n",
    "    (SELECT COUNT(*) FROM CUSTOMERS WHERE GENDER='E' AND CITYID=C.CITYID)  AS [ERKEK SAYISI]\n",
    "FROM CUSTOMERS AS C\n",
    "JOIN CITIES AS CT ON CT.ID=C.CITYID\n",
    "GROUP BY CITYID, CITY\n",
    "ORDER BY 2 DESC\n",
    "\"\"\")\n",
    "df\n"
   ]
  },
  {
   "cell_type": "code",
   "execution_count": null,
   "id": "e31da9cf",
   "metadata": {},
   "outputs": [],
   "source": [
    "df = sorgu(\"\"\"\n",
    "SELECT \n",
    "    CITY,\n",
    "    (SELECT COUNT(*) FROM CUSTOMERS WHERE CT.ID=CITYID) AS [MÜŞTERİ SAYISI],\n",
    "    (SELECT COUNT(*) FROM CUSTOMERS WHERE GENDER='K' AND CT.ID=CITYID) AS [KADIN SAYISI],\n",
    "    (SELECT COUNT(*) FROM CUSTOMERS WHERE GENDER='E' AND CT.ID=CITYID)  AS [ERKEK SAYISI]\n",
    "FROM CITIES AS CT\n",
    "ORDER BY 2 DESC\n",
    "\"\"\")\n",
    "df\n"
   ]
  },
  {
   "cell_type": "markdown",
   "id": "bca6cc07",
   "metadata": {},
   "source": [
    "#### SORU 15"
   ]
  },
  {
   "cell_type": "code",
   "execution_count": null,
   "id": "eda5b1c7",
   "metadata": {
    "scrolled": true
   },
   "outputs": [],
   "source": [
    "df = sorgu(\"\"\"\n",
    "ALTER TABLE CUSTOMERS \n",
    "ADD AGEGROUP VARCHAR(50);\n",
    "\"\"\")\n",
    "df\n"
   ]
  },
  {
   "cell_type": "markdown",
   "id": "5ae33fb1",
   "metadata": {},
   "source": [
    "#### SORU 16"
   ]
  },
  {
   "cell_type": "code",
   "execution_count": null,
   "id": "955625d9",
   "metadata": {
    "scrolled": true
   },
   "outputs": [],
   "source": [
    "df = sorgu(\"\"\"\n",
    "UPDATE CUSTOMERS \n",
    "SET AGEGROUP='20-35 YAŞ' \n",
    "WHERE DATEDIFF(YEAR, BIRTHDATE, GETDATE()) BETWEEN 20 AND 35\n",
    "\n",
    "UPDATE CUSTOMERS \n",
    "SET AGEGROUP='36-45 YAŞ' \n",
    "WHERE DATEDIFF(YEAR, BIRTHDATE, GETDATE()) BETWEEN 36 AND 45\n",
    "\n",
    "UPDATE CUSTOMERS \n",
    "SET AGEGROUP='46-55 YAŞ' \n",
    "WHERE DATEDIFF(YEAR, BIRTHDATE, GETDATE()) BETWEEN 46 AND 55\n",
    "\n",
    "UPDATE CUSTOMERS \n",
    "SET AGEGROUP='56-65 YAŞ' \n",
    "WHERE DATEDIFF(YEAR, BIRTHDATE, GETDATE()) BETWEEN 56 AND 65\n",
    "\n",
    "UPDATE CUSTOMERS \n",
    "SET AGEGROUP='65+ YAŞ' \n",
    "WHERE DATEDIFF(YEAR, BIRTHDATE, GETDATE()) > 65\n",
    "\"\"\", select=False)\n",
    "df\n"
   ]
  },
  {
   "cell_type": "code",
   "execution_count": null,
   "id": "2d6545f9",
   "metadata": {
    "scrolled": true
   },
   "outputs": [],
   "source": [
    "df = sorgu(\"\"\"\n",
    "SELECT *\n",
    "FROM CUSTOMERS\n",
    "WHERE AGEGROUP IS NULL\n",
    "\"\"\")\n",
    "df\n"
   ]
  },
  {
   "cell_type": "markdown",
   "id": "fbec5b30",
   "metadata": {},
   "source": [
    "#### SORU 17"
   ]
  },
  {
   "cell_type": "code",
   "execution_count": null,
   "id": "99a3262a",
   "metadata": {},
   "outputs": [],
   "source": [
    "df = sorgu(\"\"\"\n",
    "SELECT \n",
    "    ARALIK,\n",
    "    COUNT(*) AS SAYI\n",
    "FROM (\n",
    "    SELECT \n",
    "        CASE\n",
    "            WHEN DATEDIFF(YEAR, BIRTHDATE, GETDATE()) BETWEEN 20 AND 35 THEN '20-35 YAŞ'\n",
    "            WHEN DATEDIFF(YEAR, BIRTHDATE, GETDATE()) BETWEEN 36 AND 45 THEN '36-45 YAŞ'\n",
    "            WHEN DATEDIFF(YEAR, BIRTHDATE, GETDATE()) BETWEEN 46 AND 55 THEN '46-55 YAŞ'\n",
    "            WHEN DATEDIFF(YEAR, BIRTHDATE, GETDATE()) BETWEEN 56 AND 65 THEN '56-65 YAŞ'\n",
    "            WHEN DATEDIFF(YEAR, BIRTHDATE, GETDATE()) > 65 THEN '65+ YAŞ' \n",
    "        END AS ARALIK,\n",
    "        *\n",
    "    FROM CUSTOMERS) AS TEMP\n",
    "GROUP BY ARALIK\n",
    "\"\"\")\n",
    "df\n"
   ]
  },
  {
   "cell_type": "markdown",
   "id": "4fc0d085",
   "metadata": {},
   "source": [
    "#### SORU 18"
   ]
  },
  {
   "cell_type": "code",
   "execution_count": null,
   "id": "b9cf9117",
   "metadata": {},
   "outputs": [],
   "source": [
    "df = sorgu(\"\"\"\n",
    "SELECT *\n",
    "FROM CUSTOMERS AS C\n",
    "JOIN CITIES AS CT ON CT.ID=C.CITYID\n",
    "JOIN DISTRICTS AS D ON D.ID=C.DISTRICT\n",
    "WHERE \n",
    "    CT.CITY='İSTANBUL'\n",
    "    AND D.DISTRICT<>'KADIKÖY'\n",
    "\"\"\")\n",
    "df\n"
   ]
  },
  {
   "cell_type": "markdown",
   "id": "84e1389d",
   "metadata": {},
   "source": [
    "#### SORU 19"
   ]
  },
  {
   "cell_type": "code",
   "execution_count": null,
   "id": "650f2e41",
   "metadata": {},
   "outputs": [],
   "source": [
    "\"\"\"\n",
    "DELETE FROM CITIES WHERE CITY='ANKARA'\n",
    "DELETE FROM CITIES WHERE CITY='İSTANBUL'\n",
    "\"\"\"\n",
    "\n",
    "\"\"\"\n",
    "SELECT *\n",
    "FROM CITIES\n",
    "\"\"\"\n",
    "\n",
    "df = sorgu(\"\"\"\n",
    "SELECT *\n",
    "FROM CUSTOMERS AS C\n",
    "LEFT JOIN CITIES AS CT ON CT.ID=C.CITYID\n",
    "WHERE CT.CITY IS NULL\n",
    "\"\"\")\n",
    "df\n"
   ]
  },
  {
   "cell_type": "markdown",
   "id": "4c852d79",
   "metadata": {},
   "source": [
    "#### SORU 20"
   ]
  },
  {
   "cell_type": "code",
   "execution_count": null,
   "id": "dc9e7f9f",
   "metadata": {},
   "outputs": [],
   "source": [
    "df = sorgu(\"\"\"\n",
    "SET IDENTITY_INSERT CITIES ON\n",
    "INSERT INTO CITIES (ID, CITY) VALUES (6, 'ANKARA')\n",
    "INSERT INTO CITIES (ID, CITY) VALEUS (34, 'İSTANBUL')\n",
    "\"\"\")\n",
    "df\n"
   ]
  },
  {
   "cell_type": "markdown",
   "id": "9cda135e",
   "metadata": {},
   "source": [
    "#### SORU 21"
   ]
  },
  {
   "cell_type": "code",
   "execution_count": null,
   "id": "e32b7669",
   "metadata": {},
   "outputs": [],
   "source": [
    "df = sorgu(\"\"\"\n",
    "SELECT \n",
    "    *,\n",
    "    LEFT(TELNR1, 5) AS OPERATOR1,\n",
    "    SUBSTRING(TELNR2, 2, 3) AS OPERATOR2\n",
    "FROM CUSTOMERS\n",
    "\"\"\")\n",
    "df\n"
   ]
  },
  {
   "cell_type": "markdown",
   "id": "f548ee1d",
   "metadata": {},
   "source": [
    "#### SORU 22"
   ]
  },
  {
   "cell_type": "code",
   "execution_count": null,
   "id": "a7981ed2",
   "metadata": {},
   "outputs": [],
   "source": [
    "df = sorgu(\"\"\"\n",
    "SELECT \n",
    "\tXOPS1+XOPS2 AS XOPS,\n",
    "\tYOPS1+YOPS2 AS YOPS,\n",
    "\tZOPS1+ZOPS2 AS ZOPS\n",
    "FROM (\n",
    "\tSELECT \n",
    "\t\tSUM(CASE \n",
    "\t\t\tWHEN SUBSTRING(TELNR1, 2, 2)='50' OR SUBSTRING(TELNR1, 2, 2)='55' THEN 1 \n",
    "\t\t\tELSE 0\n",
    "\t\tEND) AS XOPS1,\n",
    "\t\tSUM(CASE \n",
    "\t\t\tWHEN SUBSTRING(TELNR1, 2, 2)='54'THEN 1 \n",
    "\t\t\tELSE 0\n",
    "\t\tEND) AS YOPS1,\n",
    "\t\tSUM(CASE \n",
    "\t\t\tWHEN SUBSTRING(TELNR1, 2, 2)='53'THEN 1 \n",
    "\t\t\tELSE 0\n",
    "\t\tEND) AS ZOPS1,\n",
    "\t\tSUM(CASE \n",
    "\t\t\tWHEN SUBSTRING(TELNR2, 2, 2)='50' OR SUBSTRING(TELNR2, 2, 2)='55' THEN 1 \n",
    "\t\t\tELSE 0\n",
    "\t\tEND) AS XOPS2,\n",
    "\t\tSUM(CASE \n",
    "\t\t\tWHEN SUBSTRING(TELNR2, 2, 2)='54'THEN 1 \n",
    "\t\t\tELSE 0\n",
    "\t\tEND) AS YOPS2,\n",
    "\t\tSUM(CASE \n",
    "\t\t\tWHEN SUBSTRING(TELNR2, 2, 2)='53'THEN 1 \n",
    "\t\t\tELSE 0\n",
    "\t\tEND) AS ZOPS2\n",
    "\tFROM CUSTOMERS) AS TEMP\n",
    "    \"\"\")\n",
    "df"
   ]
  },
  {
   "cell_type": "markdown",
   "id": "63a4ce43",
   "metadata": {},
   "source": [
    "#### SORU 23"
   ]
  },
  {
   "cell_type": "code",
   "execution_count": 10,
   "id": "468fb1ca",
   "metadata": {},
   "outputs": [
    {
     "data": {
      "text/html": [
       "<div>\n",
       "<style scoped>\n",
       "    .dataframe tbody tr th:only-of-type {\n",
       "        vertical-align: middle;\n",
       "    }\n",
       "\n",
       "    .dataframe tbody tr th {\n",
       "        vertical-align: top;\n",
       "    }\n",
       "\n",
       "    .dataframe thead th {\n",
       "        text-align: right;\n",
       "    }\n",
       "</style>\n",
       "<table border=\"1\" class=\"dataframe\">\n",
       "  <thead>\n",
       "    <tr style=\"text-align: right;\">\n",
       "      <th></th>\n",
       "      <th>CITY</th>\n",
       "      <th>DISTRICT</th>\n",
       "      <th>KİSİ SAYISI</th>\n",
       "    </tr>\n",
       "  </thead>\n",
       "  <tbody>\n",
       "    <tr>\n",
       "      <th>0</th>\n",
       "      <td>ADANA</td>\n",
       "      <td>SEYHAN</td>\n",
       "      <td>8</td>\n",
       "    </tr>\n",
       "    <tr>\n",
       "      <th>1</th>\n",
       "      <td>ADANA</td>\n",
       "      <td>ALADAĞ</td>\n",
       "      <td>6</td>\n",
       "    </tr>\n",
       "    <tr>\n",
       "      <th>2</th>\n",
       "      <td>ADANA</td>\n",
       "      <td>YÜREĞİR</td>\n",
       "      <td>2</td>\n",
       "    </tr>\n",
       "    <tr>\n",
       "      <th>3</th>\n",
       "      <td>ADIYAMAN</td>\n",
       "      <td>ADIYAMAN MERKEZ</td>\n",
       "      <td>5</td>\n",
       "    </tr>\n",
       "    <tr>\n",
       "      <th>4</th>\n",
       "      <td>ADIYAMAN</td>\n",
       "      <td>BESNİ</td>\n",
       "      <td>2</td>\n",
       "    </tr>\n",
       "    <tr>\n",
       "      <th>...</th>\n",
       "      <td>...</td>\n",
       "      <td>...</td>\n",
       "      <td>...</td>\n",
       "    </tr>\n",
       "    <tr>\n",
       "      <th>390</th>\n",
       "      <td>ZONGULDAK</td>\n",
       "      <td>ALAPLI</td>\n",
       "      <td>2</td>\n",
       "    </tr>\n",
       "    <tr>\n",
       "      <th>391</th>\n",
       "      <td>ZONGULDAK</td>\n",
       "      <td>ÇAYCUMA</td>\n",
       "      <td>2</td>\n",
       "    </tr>\n",
       "    <tr>\n",
       "      <th>392</th>\n",
       "      <td>ZONGULDAK</td>\n",
       "      <td>DEVREK</td>\n",
       "      <td>2</td>\n",
       "    </tr>\n",
       "    <tr>\n",
       "      <th>393</th>\n",
       "      <td>ZONGULDAK</td>\n",
       "      <td>GÖKÇEBEY</td>\n",
       "      <td>1</td>\n",
       "    </tr>\n",
       "    <tr>\n",
       "      <th>394</th>\n",
       "      <td>ZONGULDAK</td>\n",
       "      <td>ZONGULDAK MERKEZ</td>\n",
       "      <td>1</td>\n",
       "    </tr>\n",
       "  </tbody>\n",
       "</table>\n",
       "<p>395 rows × 3 columns</p>\n",
       "</div>"
      ],
      "text/plain": [
       "          CITY          DISTRICT  KİSİ SAYISI\n",
       "0        ADANA            SEYHAN            8\n",
       "1        ADANA            ALADAĞ            6\n",
       "2        ADANA           YÜREĞİR            2\n",
       "3     ADIYAMAN   ADIYAMAN MERKEZ            5\n",
       "4     ADIYAMAN             BESNİ            2\n",
       "..         ...               ...          ...\n",
       "390  ZONGULDAK            ALAPLI            2\n",
       "391  ZONGULDAK           ÇAYCUMA            2\n",
       "392  ZONGULDAK            DEVREK            2\n",
       "393  ZONGULDAK          GÖKÇEBEY            1\n",
       "394  ZONGULDAK  ZONGULDAK MERKEZ            1\n",
       "\n",
       "[395 rows x 3 columns]"
      ]
     },
     "execution_count": 10,
     "metadata": {},
     "output_type": "execute_result"
    }
   ],
   "source": [
    "df = sorgu(\"\"\"\n",
    "SELECT \n",
    "\tCT.CITY,\n",
    "\tD.DISTRICT,\n",
    "\tCOUNT(C.ID) AS [KİSİ SAYISI]\n",
    "FROM CUSTOMERS AS C\n",
    "JOIN CITIES AS CT ON CT.ID=C.CITYID\n",
    "JOIN DISTRICTS AS D ON D.ID=C.DISTRICTID\n",
    "GROUP BY\n",
    "\tCT.CITY,\n",
    "\tD.DISTRICT\n",
    "ORDER BY\n",
    "\t1,\n",
    "\t3 DESC\n",
    "    \"\"\")\n",
    "df"
   ]
  },
  {
   "cell_type": "markdown",
   "id": "9f0b78ce",
   "metadata": {},
   "source": [
    "#### SORU 24"
   ]
  },
  {
   "cell_type": "code",
   "execution_count": 15,
   "id": "be585c97",
   "metadata": {},
   "outputs": [
    {
     "data": {
      "text/html": [
       "<div>\n",
       "<style scoped>\n",
       "    .dataframe tbody tr th:only-of-type {\n",
       "        vertical-align: middle;\n",
       "    }\n",
       "\n",
       "    .dataframe tbody tr th {\n",
       "        vertical-align: top;\n",
       "    }\n",
       "\n",
       "    .dataframe thead th {\n",
       "        text-align: right;\n",
       "    }\n",
       "</style>\n",
       "<table border=\"1\" class=\"dataframe\">\n",
       "  <thead>\n",
       "    <tr style=\"text-align: right;\">\n",
       "      <th></th>\n",
       "      <th>NAMESURNAME</th>\n",
       "      <th>DOĞUM GÜNÜ</th>\n",
       "    </tr>\n",
       "  </thead>\n",
       "  <tbody>\n",
       "    <tr>\n",
       "      <th>0</th>\n",
       "      <td>Sevda AKÇAN</td>\n",
       "      <td>Salı</td>\n",
       "    </tr>\n",
       "    <tr>\n",
       "      <th>1</th>\n",
       "      <td>Sebahat ŞERALI</td>\n",
       "      <td>Cuma</td>\n",
       "    </tr>\n",
       "    <tr>\n",
       "      <th>2</th>\n",
       "      <td>Irmak HAMİDİ</td>\n",
       "      <td>Salı</td>\n",
       "    </tr>\n",
       "    <tr>\n",
       "      <th>3</th>\n",
       "      <td>Tuğçe AKKOÇ</td>\n",
       "      <td>Pazar</td>\n",
       "    </tr>\n",
       "    <tr>\n",
       "      <th>4</th>\n",
       "      <td>Necdet ERÇAM</td>\n",
       "      <td>Perşembe</td>\n",
       "    </tr>\n",
       "    <tr>\n",
       "      <th>...</th>\n",
       "      <td>...</td>\n",
       "      <td>...</td>\n",
       "    </tr>\n",
       "    <tr>\n",
       "      <th>946</th>\n",
       "      <td>Nisa nur MÜFTÜLÜĞÜ</td>\n",
       "      <td>Pazartesi</td>\n",
       "    </tr>\n",
       "    <tr>\n",
       "      <th>947</th>\n",
       "      <td>Yusuf Eymen TARI</td>\n",
       "      <td>Cumartesi</td>\n",
       "    </tr>\n",
       "    <tr>\n",
       "      <th>948</th>\n",
       "      <td>Esma nur HIZLAR</td>\n",
       "      <td>Perşembe</td>\n",
       "    </tr>\n",
       "    <tr>\n",
       "      <th>949</th>\n",
       "      <td>Şaziye AKKOCA</td>\n",
       "      <td>Pazar</td>\n",
       "    </tr>\n",
       "    <tr>\n",
       "      <th>950</th>\n",
       "      <td>Muhammed Emin ERÇAYAN</td>\n",
       "      <td>Perşembe</td>\n",
       "    </tr>\n",
       "  </tbody>\n",
       "</table>\n",
       "<p>951 rows × 2 columns</p>\n",
       "</div>"
      ],
      "text/plain": [
       "               NAMESURNAME DOĞUM GÜNÜ\n",
       "0              Sevda AKÇAN       Salı\n",
       "1           Sebahat ŞERALI       Cuma\n",
       "2             Irmak HAMİDİ       Salı\n",
       "3              Tuğçe AKKOÇ      Pazar\n",
       "4             Necdet ERÇAM   Perşembe\n",
       "..                     ...        ...\n",
       "946     Nisa nur MÜFTÜLÜĞÜ  Pazartesi\n",
       "947       Yusuf Eymen TARI  Cumartesi\n",
       "948        Esma nur HIZLAR   Perşembe\n",
       "949          Şaziye AKKOCA      Pazar\n",
       "950  Muhammed Emin ERÇAYAN   Perşembe\n",
       "\n",
       "[951 rows x 2 columns]"
      ]
     },
     "execution_count": 15,
     "metadata": {},
     "output_type": "execute_result"
    }
   ],
   "source": [
    "cursor.execute(\"SET LANGUAGE Turkish\")\n",
    "df = sorgu(\"\"\"\n",
    "SELECT \n",
    "\tNAMESURNAME,\n",
    "\tDATENAME(dw, BIRTHDATE) AS [DOĞUM GÜNÜ]\n",
    "FROM CUSTOMERS\n",
    "    \"\"\")\n",
    "df"
   ]
  },
  {
   "cell_type": "markdown",
   "id": "6d228c9e",
   "metadata": {},
   "source": [
    "#### SORU 25"
   ]
  },
  {
   "cell_type": "code",
   "execution_count": 17,
   "id": "8057e81b",
   "metadata": {},
   "outputs": [
    {
     "data": {
      "text/html": [
       "<div>\n",
       "<style scoped>\n",
       "    .dataframe tbody tr th:only-of-type {\n",
       "        vertical-align: middle;\n",
       "    }\n",
       "\n",
       "    .dataframe tbody tr th {\n",
       "        vertical-align: top;\n",
       "    }\n",
       "\n",
       "    .dataframe thead th {\n",
       "        text-align: right;\n",
       "    }\n",
       "</style>\n",
       "<table border=\"1\" class=\"dataframe\">\n",
       "  <thead>\n",
       "    <tr style=\"text-align: right;\">\n",
       "      <th></th>\n",
       "      <th>NAMESURNAME</th>\n",
       "      <th>BIRTHDATE</th>\n",
       "    </tr>\n",
       "  </thead>\n",
       "  <tbody>\n",
       "    <tr>\n",
       "      <th>0</th>\n",
       "      <td>Muhammed Mustafa CİMEN</td>\n",
       "      <td>1965-07-23</td>\n",
       "    </tr>\n",
       "    <tr>\n",
       "      <th>1</th>\n",
       "      <td>Ömer SOFT</td>\n",
       "      <td>1941-07-23</td>\n",
       "    </tr>\n",
       "    <tr>\n",
       "      <th>2</th>\n",
       "      <td>Çiğdem SEVENCAN</td>\n",
       "      <td>1948-07-23</td>\n",
       "    </tr>\n",
       "  </tbody>\n",
       "</table>\n",
       "</div>"
      ],
      "text/plain": [
       "              NAMESURNAME   BIRTHDATE\n",
       "0  Muhammed Mustafa CİMEN  1965-07-23\n",
       "1               Ömer SOFT  1941-07-23\n",
       "2         Çiğdem SEVENCAN  1948-07-23"
      ]
     },
     "execution_count": 17,
     "metadata": {},
     "output_type": "execute_result"
    }
   ],
   "source": [
    "df = sorgu(\"\"\"\n",
    "SELECT \n",
    "\tNAMESURNAME,\n",
    "\tBIRTHDATE\n",
    "FROM CUSTOMERS\n",
    "WHERE \n",
    "\tDAY(BIRTHDATE)=DAY(GETDATE())\n",
    "\tAND DATEPART(MONTH, BIRTHDATE)=DATEPART(MONTH, GETDATE())\n",
    "    \"\"\")\n",
    "df"
   ]
  }
 ],
 "metadata": {
  "kernelspec": {
   "display_name": "Python 3 (ipykernel)",
   "language": "python",
   "name": "python3"
  },
  "language_info": {
   "codemirror_mode": {
    "name": "ipython",
    "version": 3
   },
   "file_extension": ".py",
   "mimetype": "text/x-python",
   "name": "python",
   "nbconvert_exporter": "python",
   "pygments_lexer": "ipython3",
   "version": "3.9.13"
  }
 },
 "nbformat": 4,
 "nbformat_minor": 5
}
