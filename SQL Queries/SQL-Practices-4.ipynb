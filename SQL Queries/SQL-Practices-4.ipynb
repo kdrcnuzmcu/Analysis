{
 "cells": [
  {
   "cell_type": "code",
   "execution_count": null,
   "id": "7647deb2",
   "metadata": {},
   "outputs": [],
   "source": [
    "# SORU 1\n",
    "SELECT \n",
    "\tBRAND,\n",
    "\tCOUNT(*) AS [OFFERCOUNT]\n",
    "FROM WEBOFFERS\n",
    "GROUP BY BRAND\n",
    "ORDER BY 2 DESC"
   ]
  },
  {
   "cell_type": "code",
   "execution_count": null,
   "id": "b7f282f3",
   "metadata": {},
   "outputs": [],
   "source": [
    "# SORU 2\n",
    "SELECT \n",
    "\tBRAND,\n",
    "\tCOUNT(*) AS [OFFERCOUNT],\n",
    "\tROUND(CONVERT(FLOAT,COUNT(*))/\n",
    "\t\t(SELECT COUNT(*)FROM WEBOFFERS)*100, 2) AS [OFFERPERCENT]\n",
    "FROM WEBOFFERS\n",
    "GROUP BY BRAND\n",
    "ORDER BY 2 DESC"
   ]
  },
  {
   "cell_type": "code",
   "execution_count": null,
   "id": "67958982",
   "metadata": {},
   "outputs": [],
   "source": [
    "# SORU 3\n",
    "SELECT \n",
    "\tCITY,\n",
    "\tCOUNT(*) AS [OFFERCOUNT]\n",
    "FROM WEBOFFERS AS [WO]\n",
    "JOIN CITY AS [CI] ON CI.ID = WO.CITYID\n",
    "GROUP BY CITY\n",
    "ORDER BY 2 DESC "
   ]
  },
  {
   "cell_type": "code",
   "execution_count": null,
   "id": "3adf7965",
   "metadata": {},
   "outputs": [],
   "source": [
    "# SORU 4\n",
    "SELECT \n",
    "\tCITY,\n",
    "\tTOWN,\n",
    "\tDISTRICT,\n",
    "\tTITLE,\n",
    "\tBRAND,\n",
    "\tMODEL,\n",
    "\tKM, \n",
    "\tPRICE,\n",
    "\tSHIFTTYPE,\n",
    "\tFUEL,\n",
    "\tCOLOR, \n",
    "\tYEAR_\n",
    "FROM WEBOFFERS AS WO\n",
    "JOIN CITY AS CI ON CI.ID = WO.CITYID\n",
    "JOIN TOWN AS [TO] ON [TO].ID = WO.TOWNID\n",
    "JOIN DISTRICT AS DI ON DI.ID = WO.DISTRICTID\n",
    "WHERE\n",
    "\tUPPER(BRAND) = 'VOLKSWAGEN' AND\n",
    "\tUPPER(MODEL) = 'PASSAT' AND \n",
    "\tUPPER(FROMWHO) = 'SAHİBİNDEN' AND\n",
    "\tYEAR_ BETWEEN 2014 AND 2018 AND \n",
    "\tUPPER(SHIFTTYPE) = 'OTOMATİK VİTES' AND\n",
    "\tUPPER(FUEL) = 'DİZEL'\n",
    "ORDER BY \n",
    "\tKM,\n",
    "\tYEAR_"
   ]
  },
  {
   "cell_type": "code",
   "execution_count": null,
   "id": "154e70a4",
   "metadata": {},
   "outputs": [],
   "source": [
    "# SORU 5\n",
    "SELECT \n",
    "\tCITY,\n",
    "\tTITLE,\n",
    "\tBRAND,\n",
    "\tMODEL,\n",
    "\tKM, \n",
    "\tPRICE,\n",
    "\tSHIFTTYPE,\n",
    "\tFUEL,\n",
    "\tCOLOR, \n",
    "\tYEAR_\n",
    "FROM WEBOFFERS AS WO\n",
    "JOIN CITY AS CI ON CI.ID = WO.CITYID\n",
    "WHERE \n",
    "\tBRAND = 'BMW' AND\n",
    "\tCI.CITY IN ('Ankara', 'İzmir', 'İstanbul')"
   ]
  }
 ],
 "metadata": {
  "kernelspec": {
   "display_name": "Python 3 (ipykernel)",
   "language": "python",
   "name": "python3"
  },
  "language_info": {
   "codemirror_mode": {
    "name": "ipython",
    "version": 3
   },
   "file_extension": ".py",
   "mimetype": "text/x-python",
   "name": "python",
   "nbconvert_exporter": "python",
   "pygments_lexer": "ipython3",
   "version": "3.9.13"
  }
 },
 "nbformat": 4,
 "nbformat_minor": 5
}
