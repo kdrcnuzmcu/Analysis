{
 "cells": [
  {
   "cell_type": "code",
   "execution_count": null,
   "id": "7c363ff8",
   "metadata": {},
   "outputs": [],
   "source": [
    "CREATE DATABASE HR"
   ]
  },
  {
   "cell_type": "code",
   "execution_count": null,
   "id": "1e9aa9d0",
   "metadata": {},
   "outputs": [],
   "source": [
    "# SORU 2\n",
    "CREATE TABLE POSITION(\n",
    "\tID INT IDENTITY(1, 1) NOT NULL PRIMARY KEY,\n",
    "\tPOSITION VARCHAR(50)\n",
    ");\n",
    "\n",
    "\n",
    "CREATE TABLE DEPARTMENT(\n",
    "\tID INT IDENTITY(1, 1) NOT NULL PRIMARY KEY,\n",
    "\tDEPARTMENT VARCHAR(50)\n",
    ");\n",
    "\n",
    "\n",
    "CREATE TABLE PERSON(\n",
    "\tID INT IDENTITY(1, 1) NOT NULL PRIMARY KEY, \n",
    "\tCODE CHAR(4),\n",
    "\tTCNUMBER CHAR(11),\n",
    "\tNAME_ VARCHAR(50),\n",
    "\tSURNAME VARCHAR(50),\n",
    "\tGENDER CHAR(1),\n",
    "\tBIRTHDATE DATE,\n",
    "\tINDATE DATE,\n",
    "\tOUTDATE DATE,\n",
    "\tDEPARTMENTID INT, \n",
    "\tPOSITIONID INT,\n",
    "\tPARENTPOSITIONID INT,\n",
    "\tMANAGERID INT,\n",
    "\tTELNR1 CHAR(14),\n",
    "\tSALARY INT,\n",
    "\tFOREIGN KEY(DEPARTMENTID) REFERENCES DEPARTMENT(ID),\n",
    "\tFOREIGN KEY(POSITIONID) REFERENCES POSITION(ID),\n",
    "\tFOREIGN KEY(PARENTPOSITIONID) REFERENCES POSITION(ID)\n",
    "\t-- FOREIGN KEY(MANAGERID) REFERENCES PERSON(ID)\n",
    ");"
   ]
  },
  {
   "cell_type": "code",
   "execution_count": null,
   "id": "d1d04725",
   "metadata": {},
   "outputs": [],
   "source": [
    "DELETE FROM TABLE_NAME\n",
    "DBCC CHECKIDENT(TABLE_NAME, RESEED, 0)"
   ]
  },
  {
   "cell_type": "code",
   "execution_count": null,
   "id": "f12ab5df",
   "metadata": {},
   "outputs": [],
   "source": [
    "# SORU 3\n",
    "INSERT INTO DEPARTMENT (DEPARTMENT) VALUES (...)\n",
    "INSERT INTO POSITION (POSITION) VALUES (...)\n",
    "INSERT INTO PERSON (CODE,TCNUMBER,NAME_,SURNAME,GENDER,BIRTHDATE,INDATE,OUTDATE,DEPARTMENTID,POSITIONID,PARENTPOSITIONID,MANAGERID,TELNR1,SALARY) VALUES (...)"
   ]
  },
  {
   "cell_type": "code",
   "execution_count": null,
   "id": "923bb7da",
   "metadata": {},
   "outputs": [],
   "source": [
    "# SORU 4\n",
    "SELECT *\n",
    "FROM PERSON\n",
    "WHERE OUTDATE IS NULL"
   ]
  },
  {
   "cell_type": "code",
   "execution_count": null,
   "id": "f8abae10",
   "metadata": {},
   "outputs": [],
   "source": [
    "# SORU 5\n",
    "SELECT \n",
    "\tDEPARTMENT,\n",
    "\tCASE\n",
    "\t\tWHEN GENDER='K' THEN 'KADIN'\n",
    "\t\tWHEN GENDER='E' THEN 'ERKEK'\n",
    "\tEND AS GENDER,\n",
    "\tCOUNT(*) AS PERSONALS\n",
    "FROM PERSON\n",
    "JOIN DEPARTMENT AS D ON D.ID = DEPARTMENTID\n",
    "WHERE OUTDATE IS NULL\n",
    "GROUP BY \n",
    "\tDEPARTMENT,\n",
    "\tGENDER\n",
    "ORDER BY\n",
    "\t1, 2"
   ]
  },
  {
   "cell_type": "code",
   "execution_count": null,
   "id": "0a7bdfa4",
   "metadata": {},
   "outputs": [],
   "source": [
    "# SORU 6\n",
    "SELECT \n",
    "\tDEPARTMENT,\n",
    "\tSUM(CASE WHEN GENDER='K' THEN 1 ELSE 0 END) AS [KADIN],\n",
    "\tSUM(CASE WHEN GENDER='E' THEN 1 ELSE 0 END) AS [ERKEK]\n",
    "FROM PERSON\n",
    "JOIN DEPARTMENT AS D ON D.ID=DEPARTMENTID\n",
    "WHERE OUTDATE IS NULL\n",
    "GROUP BY D.DEPARTMENT"
   ]
  },
  {
   "cell_type": "code",
   "execution_count": null,
   "id": "0f6d267d",
   "metadata": {},
   "outputs": [],
   "source": [
    "# SORU 7\n",
    "SELECT\n",
    "\tP.POSITION,\n",
    "\tCOUNT(*) AS SAYISI,\n",
    "\tMIN(SALARY) AS MINIMUM,\n",
    "\tMAX(SALARY) AS MAKSIMUM,\n",
    "\tROUND(AVG(SALARY), 0) AS ORTALAMA\n",
    "FROM PERSON\n",
    "JOIN POSITION AS P ON P.ID=POSITIONID\n",
    "GROUP BY P.POSITION\n",
    "HAVING P.POSITION LIKE 'PLANLAMA%'"
   ]
  },
  {
   "cell_type": "code",
   "execution_count": null,
   "id": "93908fb7",
   "metadata": {},
   "outputs": [],
   "source": [
    "# SORU 8\n",
    "## OPTION 1\n",
    "SELECT \n",
    "\tP.POSITION,\n",
    "\tCOUNT(*) [ÇALIŞAN SAYISI],\n",
    "\tAVG(SALARY) AS [ORTALAMA ÜCRET]\n",
    "FROM PERSON\n",
    "JOIN POSITION AS P ON P.ID=POSITIONID\n",
    "GROUP BY P.POSITION\n",
    "ORDER BY 2 DESC\n",
    "\n",
    "\n",
    "## OPTION 2\n",
    "SELECT \n",
    "\tPOSITION,\n",
    "\t(SELECT COUNT(*) FROM PERSON WHERE POSITION.ID=POSITIONID) AS [ÇALIŞAN SAYISI],\n",
    "\t(SELECT ROUND(AVG(SALARY), 0) FROM PERSON WHERE POSITION.ID=POSITIONID) AS [ORTALAMA ÜCRET]\n",
    "FROM POSITION\n",
    "ORDER BY 2 DESC"
   ]
  },
  {
   "cell_type": "code",
   "execution_count": null,
   "id": "c3a97e08",
   "metadata": {},
   "outputs": [],
   "source": [
    "# SORU 9\n",
    "SELECT \n",
    "\tYEAR(INDATE) AS [GIRIS YILI],\n",
    "\tSUM(CASE WHEN GENDER='K' THEN 1 ELSE 0 END) AS [KADIN],\n",
    "\tSUM(CASE WHEN GENDER='E' THEN 1 ELSE 0 END) AS [ERKEK]\n",
    "FROM PERSON\n",
    "GROUP BY YEAR(INDATE)\n",
    "ORDER BY [GIRIS YILI]"
   ]
  },
  {
   "cell_type": "code",
   "execution_count": null,
   "id": "fd945249",
   "metadata": {},
   "outputs": [],
   "source": [
    "# SORU 10\n",
    "SELECT \n",
    "\tNAME_, \n",
    "\tSURNAME,\n",
    "\tCASE\n",
    "\t\tWHEN OUTDATE IS NULL THEN DATEDIFF(MONTH, INDATE, GETDATE())\n",
    "\t\tELSE DATEDIFF(MONTH, INDATE, OUTDATE)\n",
    "\tEND AS [ÇALIŞMA AYI],\n",
    "\tINDATE AS [GİRİŞ TARİHİ],\n",
    "\tOUTDATE AS [AYRILMA TARİHİ]\n",
    "FROM PERSON\n",
    "ORDER BY 2, 1, 3 DESC "
   ]
  },
  {
   "cell_type": "code",
   "execution_count": null,
   "id": "deb7b2fb",
   "metadata": {},
   "outputs": [],
   "source": [
    "# SORU 11\n",
    "SELECT \n",
    "\tISIMSOYISIM,\n",
    "\tCOUNT(*) AS [SAYI]\n",
    "FROM (\n",
    "\tSELECT\n",
    "\t\tCONCAT(\n",
    "\t\t\tLEFT(NAME_, 1), \n",
    "\t\t\t'.', \n",
    "\t\t\tLEFT(SURNAME, 1), \n",
    "\t\t\t'.') AS [ISIMSOYISIM]\n",
    "\tFROM PERSON ) AS T\n",
    "GROUP BY ISIMSOYISIM\n",
    "ORDER BY 2 DESC"
   ]
  },
  {
   "cell_type": "code",
   "execution_count": null,
   "id": "da1fc3e2",
   "metadata": {},
   "outputs": [],
   "source": [
    "# SORU 12\n",
    "# OPTION 1\n",
    "SELECT\n",
    "\tD.DEPARTMENT,\n",
    "\tAVG(SALARY) AS ORTMAAS\n",
    "FROM PERSON\n",
    "JOIN DEPARTMENT AS D ON D.ID=DEPARTMENTID\n",
    "GROUP BY D.DEPARTMENT\n",
    "HAVING AVG(SALARY) > 5500\n",
    "ORDER BY 2 DESC\n",
    "\n",
    "# OPTION 2\n",
    "SELECT \n",
    "\tDEPARTMENT,\n",
    "\t(SELECT AVG(SALARY) FROM PERSON WHERE DEPARTMENTID=D.ID) AS ORTMAAS\n",
    "FROM DEPARTMENT AS D\n",
    "WHERE (SELECT AVG(SALARY) FROM PERSON WHERE DEPARTMENTID=D.ID)>5500\n",
    "ORDER BY 2 DESC"
   ]
  },
  {
   "cell_type": "code",
   "execution_count": null,
   "id": "364e9c1f",
   "metadata": {},
   "outputs": [],
   "source": [
    "# SORU 13\n",
    "SELECT \n",
    "\tD.DEPARTMENT,\n",
    "\tAVG(CASE \n",
    "\t\tWHEN OUTDATE IS NULL THEN DATEDIFF(MONTH, INDATE, GETDATE())\n",
    "\t\tELSE DATEDIFF(MONTH, INDATE, OUTDATE)\n",
    "\tEND) AS ORTKIDEM\n",
    "FROM PERSON\n",
    "JOIN DEPARTMENT AS D ON D.ID=DEPARTMENTID\n",
    "GROUP BY D.DEPARTMENT\n",
    "ORDER BY 2 DESC"
   ]
  },
  {
   "cell_type": "code",
   "execution_count": null,
   "id": "e007f0ec",
   "metadata": {},
   "outputs": [],
   "source": [
    "# SORU 14\n",
    "# OPTION 1\n",
    "SELECT \n",
    "\tCONCAT(PP.NAME_, ' ', PP.SURNAME) AS ISIM,\n",
    "\tP.POSITION,\n",
    "\tCONCAT(PR.NAME_, ' ', PR.SURNAME) AS MANAGER,\n",
    "\tP2.POSITION\n",
    "FROM PERSON AS PP\n",
    "JOIN POSITION AS P ON P.ID=POSITIONID\n",
    "JOIN PERSON AS PR ON PR.ID=PP.MANAGERID\n",
    "JOIN POSITION AS P2 ON P2.ID=PR.POSITIONID\n",
    "ORDER BY 1\n",
    "\n",
    "# OPTION 2\n",
    "SELECT\n",
    "\tPP.NAME_+' '+PP.SURNAME,\n",
    "\tP.POSITION,\n",
    "\tPR.NAME_+' '+PR.SURNAME,\n",
    "\t(SELECT POSITION FROM POSITION WHERE PR.POSITIONID=ID)\n",
    "FROM POSITION AS P\n",
    "JOIN PERSON AS PP ON PP.POSITIONID=P.ID\n",
    "JOIN PERSON AS PR ON PR.ID=PP.MANAGERID\n",
    "ORDER BY 1"
   ]
  }
 ],
 "metadata": {
  "kernelspec": {
   "display_name": "Python 3 (ipykernel)",
   "language": "python",
   "name": "python3"
  },
  "language_info": {
   "codemirror_mode": {
    "name": "ipython",
    "version": 3
   },
   "file_extension": ".py",
   "mimetype": "text/x-python",
   "name": "python",
   "nbconvert_exporter": "python",
   "pygments_lexer": "ipython3",
   "version": "3.9.13"
  }
 },
 "nbformat": 4,
 "nbformat_minor": 5
}
