{
 "cells": [
  {
   "cell_type": "code",
   "execution_count": null,
   "id": "09f451ec",
   "metadata": {},
   "outputs": [],
   "source": [
    "# SORU 1\n",
    "SELECT \n",
    "\tCITY AS [ŞEHİR],\n",
    "\tSUM(LINETOTAL) AS [TOPLAM SATIŞ TUTARI]\n",
    "FROM SALEORDERS\n",
    "GROUP BY CITY\n",
    "ORDER BY 1"
   ]
  },
  {
   "cell_type": "code",
   "execution_count": null,
   "id": "0b515bfb",
   "metadata": {},
   "outputs": [],
   "source": [
    "# SORU 2\n",
    "SELECT \n",
    "\tCITY AS [ŞEHİR],\n",
    "\tMONTH_ AS [AY],\n",
    "\tSUM(LINETOTAL) AS [TOPLAM SATIŞ TUTARI]\n",
    "FROM SALEORDERS\n",
    "GROUP BY\n",
    "\tCITY,\n",
    "\tMONTH_\n",
    "ORDER BY \n",
    "\t1, 2"
   ]
  },
  {
   "cell_type": "code",
   "execution_count": null,
   "id": "4771d58d",
   "metadata": {},
   "outputs": [],
   "source": [
    "# SORU 3\n",
    "SELECT\n",
    "\tCITY,\n",
    "\tDAYOFWEEK_,\n",
    "\tSUM(LINETOTAL) AS [EN YÜKSEK SATIŞ TUTARI]\n",
    "FROM SALEORDERS\n",
    "GROUP BY\n",
    "\tCITY,\n",
    "\tDAYOFWEEK_\n",
    "ORDER BY\n",
    "\t1, 3 DESC"
   ]
  },
  {
   "cell_type": "code",
   "execution_count": null,
   "id": "cf0c2ec3",
   "metadata": {},
   "outputs": [],
   "source": [
    "# SORU 4\n",
    "SELECT\n",
    "\tCITY,\n",
    "\t(SELECT SUM(LINETOTAL) FROM SALEORDERS WHERE DAYOFWEEK_='01.PZT' AND SO.CITY=CITY) AS [PAZARTESİ],\n",
    "\t(SELECT SUM(LINETOTAL) FROM SALEORDERS WHERE DAYOFWEEK_='02.SAL' AND SO.CITY=CITY) AS [SALI],\n",
    "\t(SELECT SUM(LINETOTAL) FROM SALEORDERS WHERE DAYOFWEEK_='03.ÇAR' AND SO.CITY=CITY) AS [ÇARŞAMBA],\n",
    "\t(SELECT SUM(LINETOTAL) FROM SALEORDERS WHERE DAYOFWEEK_='04.PER' AND SO.CITY=CITY) AS [PERŞEMBE],\n",
    "\t(SELECT SUM(LINETOTAL) FROM SALEORDERS WHERE DAYOFWEEK_='05.CUM' AND SO.CITY=CITY) AS [CUMA],\n",
    "\t(SELECT SUM(LINETOTAL) FROM SALEORDERS WHERE DAYOFWEEK_='06.CMT' AND SO.CITY=CITY) AS [CUMARTESİ],\n",
    "\t(SELECT SUM(LINETOTAL) FROM SALEORDERS WHERE DAYOFWEEK_='07.PAZ' AND SO.CITY=CITY) AS [PAZAR]\n",
    "FROM SALEORDERS AS SO\n",
    "GROUP BY CITY\n",
    "ORDER BY CITY"
   ]
  },
  {
   "cell_type": "code",
   "execution_count": null,
   "id": "7efba1c0",
   "metadata": {},
   "outputs": [],
   "source": [
    "# SORU 5\n",
    "# OPTION 1\n",
    "SELECT \n",
    "\tCITY,\n",
    "\tCATEGORY1,\n",
    "\t[TOPLAM SATIS]\n",
    "FROM (\n",
    "SELECT\n",
    "\tCITY,\n",
    "\tCATEGORY1,\n",
    "\tSUM(LINETOTAL) AS [TOPLAM SATIS],\n",
    "\tROW_NUMBER() OVER (PARTITION BY CITY ORDER BY SUM(LINETOTAL) DESC) AS RANK_\n",
    "FROM SALEORDERS\n",
    "GROUP BY \n",
    "\tCITY, \n",
    "\tCATEGORY1) AS T\n",
    "WHERE RANK_ < 6\n",
    "ORDER BY \n",
    "\t1,\n",
    "\t3 DESC\n",
    "    \n",
    "    \n",
    "    # OPTION 2\n",
    "    SELECT\n",
    "\tSO.CITY,\n",
    "\tSO2.CATEGORY1,\n",
    "\tMAX(SO2.TOPLAMSATIS) AS [SON TOPLAM]\n",
    "FROM SALEORDERS AS SO\n",
    "CROSS APPLY (\n",
    "\tSELECT TOP 5\n",
    "\t\tCATEGORY1, \n",
    "\t\tSUM(LINETOTAL) AS TOPLAMSATIS \n",
    "\tFROM SALEORDERS \n",
    "\tWHERE CITY=SO.CITY \n",
    "\tGROUP BY CATEGORY1 \n",
    "\tORDER BY 2 DESC) AS SO2\n",
    "GROUP BY\n",
    "\tSO.CITY,\n",
    "\tSO2.CATEGORY1\n",
    "ORDER BY \n",
    "\t1,\n",
    "\t3 DESC"
   ]
  },
  {
   "cell_type": "code",
   "execution_count": null,
   "id": "d6593cbc",
   "metadata": {},
   "outputs": [],
   "source": [
    "# SORU 6\n",
    "SELECT \n",
    "\tCITY,\n",
    "\tCATEGORY1,\n",
    "\tCATEGORY2,\n",
    "\t[TOPLAM SATIS],\n",
    "\tRANK_\n",
    "FROM (\n",
    "SELECT\n",
    "\tCITY,\n",
    "\tCATEGORY1,\n",
    "\tCATEGORY2,\n",
    "\tSUM(LINETOTAL) AS [TOPLAM SATIS],\n",
    "\tROW_NUMBER() OVER (PARTITION BY CITY ORDER BY SUM(LINETOTAL) DESC) AS RANK_\n",
    "FROM SALEORDERS\n",
    "GROUP BY \n",
    "\tCITY,\n",
    "\tCATEGORY1, \n",
    "\tCATEGORY2) AS T\n",
    "WHERE RANK_ < 4\n",
    "ORDER BY \n",
    "\t1,\n",
    "\t4 DESC"
   ]
  }
 ],
 "metadata": {
  "kernelspec": {
   "display_name": "Python 3 (ipykernel)",
   "language": "python",
   "name": "python3"
  },
  "language_info": {
   "codemirror_mode": {
    "name": "ipython",
    "version": 3
   },
   "file_extension": ".py",
   "mimetype": "text/x-python",
   "name": "python",
   "nbconvert_exporter": "python",
   "pygments_lexer": "ipython3",
   "version": "3.9.13"
  }
 },
 "nbformat": 4,
 "nbformat_minor": 5
}
