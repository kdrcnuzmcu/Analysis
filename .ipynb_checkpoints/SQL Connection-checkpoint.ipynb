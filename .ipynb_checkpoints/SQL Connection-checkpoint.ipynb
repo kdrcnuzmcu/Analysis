{
 "cells": [
  {
   "cell_type": "code",
   "execution_count": null,
   "id": "4ed20b65",
   "metadata": {},
   "outputs": [],
   "source": [
    "!pip install pyodbc\n"
   ]
  },
  {
   "cell_type": "code",
   "execution_count": null,
   "id": "623b355a",
   "metadata": {},
   "outputs": [],
   "source": [
    "import pyodbc"
   ]
  },
  {
   "cell_type": "code",
   "execution_count": null,
   "id": "adfcb7cc",
   "metadata": {},
   "outputs": [],
   "source": [
    "server = \"DESKTOP-41IVAA9\"\n",
    "database = \"Customers\"\n",
    "username = \"\"\n",
    "password = \"\"\n",
    "driver = \"{SQL Server Native Client 11.0}\""
   ]
  },
  {
   "cell_type": "code",
   "execution_count": null,
   "id": "f9132ef6",
   "metadata": {},
   "outputs": [],
   "source": [
    "connection_string = f'DRIVER={driver};SERVER={server};DATABASE={database};UID={username};PWD={password}'\n"
   ]
  },
  {
   "cell_type": "code",
   "execution_count": null,
   "id": "7a9e101d",
   "metadata": {},
   "outputs": [],
   "source": [
    "connection = pyodbc.connect(connection_string)"
   ]
  },
  {
   "cell_type": "code",
   "execution_count": null,
   "id": "d7232bd7",
   "metadata": {},
   "outputs": [],
   "source": [
    "if connection:\n",
    "    cursor = connection.cursor()\n",
    "\n",
    "    cursor.execute(\"SELECT * FROM your_table\")\n",
    "\n",
    "    rows = cursor.fetchall()\n",
    "\n",
    "    for row in rows:\n",
    "        print(row)\n",
    "\n",
    "    connection.close()"
   ]
  }
 ],
 "metadata": {
  "kernelspec": {
   "display_name": "Python 3 (ipykernel)",
   "language": "python",
   "name": "python3"
  },
  "language_info": {
   "codemirror_mode": {
    "name": "ipython",
    "version": 3
   },
   "file_extension": ".py",
   "mimetype": "text/x-python",
   "name": "python",
   "nbconvert_exporter": "python",
   "pygments_lexer": "ipython3",
   "version": "3.9.13"
  }
 },
 "nbformat": 4,
 "nbformat_minor": 5
}
